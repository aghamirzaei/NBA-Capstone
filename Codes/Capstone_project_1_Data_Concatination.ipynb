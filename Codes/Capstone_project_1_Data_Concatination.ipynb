{
 "cells": [
  {
   "cell_type": "code",
   "execution_count": 1,
   "metadata": {
    "collapsed": false
   },
   "outputs": [],
   "source": [
    "import pandas as pd\n",
    "import numpy as np\n",
    "\n",
    "import seaborn as sns\n",
    "import matplotlib.pyplot as plt\n",
    "%matplotlib inline"
   ]
  },
  {
   "cell_type": "markdown",
   "metadata": {},
   "source": [
    "# import and concat game data for different seasons"
   ]
  },
  {
   "cell_type": "code",
   "execution_count": 2,
   "metadata": {
    "collapsed": false
   },
   "outputs": [
    {
     "name": "stdout",
     "output_type": "stream",
     "text": [
      "(57, 92)\n"
     ]
    },
    {
     "data": {
      "text/html": [
       "<div>\n",
       "<table border=\"1\" class=\"dataframe\">\n",
       "  <thead>\n",
       "    <tr style=\"text-align: right;\">\n",
       "      <th></th>\n",
       "      <th>Season</th>\n",
       "      <th>GameDate</th>\n",
       "      <th>GameTime</th>\n",
       "      <th>HostName</th>\n",
       "      <th>HostScore</th>\n",
       "      <th>GuestName</th>\n",
       "      <th>GuestScore</th>\n",
       "      <th>host_shortname</th>\n",
       "      <th>GameId</th>\n",
       "      <th>gq1</th>\n",
       "      <th>...</th>\n",
       "      <th>hPTS</th>\n",
       "      <th>hTS%</th>\n",
       "      <th>h3PAR</th>\n",
       "      <th>hFTr</th>\n",
       "      <th>hDRB%</th>\n",
       "      <th>hTRB%</th>\n",
       "      <th>hAST%</th>\n",
       "      <th>hSTL%</th>\n",
       "      <th>hBLK%</th>\n",
       "      <th>hDRtg</th>\n",
       "    </tr>\n",
       "  </thead>\n",
       "  <tbody>\n",
       "    <tr>\n",
       "      <th>0</th>\n",
       "      <td>2017</td>\n",
       "      <td>2017-01-24</td>\n",
       "      <td>9:00 pm</td>\n",
       "      <td>Denver Nuggets</td>\n",
       "      <td>103</td>\n",
       "      <td>Utah Jazz</td>\n",
       "      <td>93</td>\n",
       "      <td>DEN</td>\n",
       "      <td>201701240DEN</td>\n",
       "      <td>22</td>\n",
       "      <td>...</td>\n",
       "      <td>103.0</td>\n",
       "      <td>0.575</td>\n",
       "      <td>0.342</td>\n",
       "      <td>0.408</td>\n",
       "      <td>81.8</td>\n",
       "      <td>51.8</td>\n",
       "      <td>80.0</td>\n",
       "      <td>7.4</td>\n",
       "      <td>9.5</td>\n",
       "      <td>98.3</td>\n",
       "    </tr>\n",
       "  </tbody>\n",
       "</table>\n",
       "<p>1 rows × 92 columns</p>\n",
       "</div>"
      ],
      "text/plain": [
       "   Season   GameDate GameTime        HostName  HostScore  GuestName  \\\n",
       "0    2017 2017-01-24  9:00 pm  Denver Nuggets        103  Utah Jazz   \n",
       "\n",
       "   GuestScore host_shortname        GameId  gq1  ...     hPTS   hTS%  h3PAR  \\\n",
       "0          93            DEN  201701240DEN   22  ...    103.0  0.575  0.342   \n",
       "\n",
       "    hFTr  hDRB%  hTRB%  hAST%  hSTL%  hBLK%  hDRtg  \n",
       "0  0.408   81.8   51.8   80.0    7.4    9.5   98.3  \n",
       "\n",
       "[1 rows x 92 columns]"
      ]
     },
     "execution_count": 2,
     "metadata": {},
     "output_type": "execute_result"
    }
   ],
   "source": [
    "games_new_games = pd.read_csv('./Data/CSV_files/Final_data_newgames')\n",
    "\n",
    "if 'Unnamed: 0' in games_new_games.columns :\n",
    "    del games_new_games['Unnamed: 0']\n",
    "\n",
    "games_new_games.insert(0,'Season',2017)\n",
    "games_new_games.GameDate =  pd.to_datetime(games_new_games.GameDate)\n",
    "\n",
    "print games_new_games.shape\n",
    "games_new_games.head(1)"
   ]
  },
  {
   "cell_type": "code",
   "execution_count": 3,
   "metadata": {
    "collapsed": false
   },
   "outputs": [
    {
     "name": "stdout",
     "output_type": "stream",
     "text": [
      "(672, 92)\n"
     ]
    },
    {
     "data": {
      "text/html": [
       "<div>\n",
       "<table border=\"1\" class=\"dataframe\">\n",
       "  <thead>\n",
       "    <tr style=\"text-align: right;\">\n",
       "      <th></th>\n",
       "      <th>Season</th>\n",
       "      <th>GameDate</th>\n",
       "      <th>GameTime</th>\n",
       "      <th>HostName</th>\n",
       "      <th>HostScore</th>\n",
       "      <th>GuestName</th>\n",
       "      <th>GuestScore</th>\n",
       "      <th>host_shortname</th>\n",
       "      <th>GameId</th>\n",
       "      <th>gq1</th>\n",
       "      <th>...</th>\n",
       "      <th>hPTS</th>\n",
       "      <th>hTS%</th>\n",
       "      <th>h3PAR</th>\n",
       "      <th>hFTr</th>\n",
       "      <th>hDRB%</th>\n",
       "      <th>hTRB%</th>\n",
       "      <th>hAST%</th>\n",
       "      <th>hSTL%</th>\n",
       "      <th>hBLK%</th>\n",
       "      <th>hDRtg</th>\n",
       "    </tr>\n",
       "  </thead>\n",
       "  <tbody>\n",
       "    <tr>\n",
       "      <th>0</th>\n",
       "      <td>2017</td>\n",
       "      <td>2016-10-25</td>\n",
       "      <td>7:30 pm</td>\n",
       "      <td>Cleveland Cavaliers</td>\n",
       "      <td>117</td>\n",
       "      <td>New York Knicks</td>\n",
       "      <td>88</td>\n",
       "      <td>CLE</td>\n",
       "      <td>201610250CLE</td>\n",
       "      <td>18</td>\n",
       "      <td>...</td>\n",
       "      <td>117.0</td>\n",
       "      <td>0.572</td>\n",
       "      <td>0.372</td>\n",
       "      <td>0.202</td>\n",
       "      <td>75.5</td>\n",
       "      <td>54.8</td>\n",
       "      <td>68.9</td>\n",
       "      <td>12.0</td>\n",
       "      <td>8.3</td>\n",
       "      <td>88.1</td>\n",
       "    </tr>\n",
       "  </tbody>\n",
       "</table>\n",
       "<p>1 rows × 92 columns</p>\n",
       "</div>"
      ],
      "text/plain": [
       "   Season   GameDate GameTime             HostName  HostScore  \\\n",
       "0    2017 2016-10-25  7:30 pm  Cleveland Cavaliers        117   \n",
       "\n",
       "         GuestName  GuestScore host_shortname        GameId  gq1  ...    \\\n",
       "0  New York Knicks          88            CLE  201610250CLE   18  ...     \n",
       "\n",
       "    hPTS   hTS%  h3PAR   hFTr  hDRB%  hTRB%  hAST%  hSTL%  hBLK%  hDRtg  \n",
       "0  117.0  0.572  0.372  0.202   75.5   54.8   68.9   12.0    8.3   88.1  \n",
       "\n",
       "[1 rows x 92 columns]"
      ]
     },
     "execution_count": 3,
     "metadata": {},
     "output_type": "execute_result"
    }
   ],
   "source": [
    "games_2017 = pd.read_csv('./Data/CSV_files/Final_data_2017')\n",
    "\n",
    "if 'Unnamed: 0' in games_2017.columns :\n",
    "    del games_2017['Unnamed: 0']\n",
    "\n",
    "games_2017.insert(0,'Season',2017)\n",
    "games_2017.GameDate =  pd.to_datetime(games_2017.GameDate)\n",
    "\n",
    "print games_2017.shape\n",
    "games_2017.head(1)"
   ]
  },
  {
   "cell_type": "code",
   "execution_count": 4,
   "metadata": {
    "collapsed": false
   },
   "outputs": [
    {
     "name": "stdout",
     "output_type": "stream",
     "text": [
      "(1316, 92)\n"
     ]
    },
    {
     "data": {
      "text/html": [
       "<div>\n",
       "<table border=\"1\" class=\"dataframe\">\n",
       "  <thead>\n",
       "    <tr style=\"text-align: right;\">\n",
       "      <th></th>\n",
       "      <th>Season</th>\n",
       "      <th>GameDate</th>\n",
       "      <th>GameTime</th>\n",
       "      <th>HostName</th>\n",
       "      <th>HostScore</th>\n",
       "      <th>GuestName</th>\n",
       "      <th>GuestScore</th>\n",
       "      <th>host_shortname</th>\n",
       "      <th>GameId</th>\n",
       "      <th>gq1</th>\n",
       "      <th>...</th>\n",
       "      <th>hPTS</th>\n",
       "      <th>hTS%</th>\n",
       "      <th>h3PAR</th>\n",
       "      <th>hFTr</th>\n",
       "      <th>hDRB%</th>\n",
       "      <th>hTRB%</th>\n",
       "      <th>hAST%</th>\n",
       "      <th>hSTL%</th>\n",
       "      <th>hBLK%</th>\n",
       "      <th>hDRtg</th>\n",
       "    </tr>\n",
       "  </thead>\n",
       "  <tbody>\n",
       "    <tr>\n",
       "      <th>0</th>\n",
       "      <td>2016</td>\n",
       "      <td>2015-10-27</td>\n",
       "      <td>8:00 pm</td>\n",
       "      <td>Atlanta Hawks</td>\n",
       "      <td>94</td>\n",
       "      <td>Detroit Pistons</td>\n",
       "      <td>106</td>\n",
       "      <td>ATL</td>\n",
       "      <td>201510270ATL</td>\n",
       "      <td>25</td>\n",
       "      <td>...</td>\n",
       "      <td>94.0</td>\n",
       "      <td>0.53</td>\n",
       "      <td>0.329</td>\n",
       "      <td>0.183</td>\n",
       "      <td>58.9</td>\n",
       "      <td>40.4</td>\n",
       "      <td>59.5</td>\n",
       "      <td>9.4</td>\n",
       "      <td>6.0</td>\n",
       "      <td>111.2</td>\n",
       "    </tr>\n",
       "  </tbody>\n",
       "</table>\n",
       "<p>1 rows × 92 columns</p>\n",
       "</div>"
      ],
      "text/plain": [
       "   Season   GameDate GameTime       HostName  HostScore        GuestName  \\\n",
       "0    2016 2015-10-27  8:00 pm  Atlanta Hawks         94  Detroit Pistons   \n",
       "\n",
       "   GuestScore host_shortname        GameId  gq1  ...    hPTS  hTS%  h3PAR  \\\n",
       "0         106            ATL  201510270ATL   25  ...    94.0  0.53  0.329   \n",
       "\n",
       "    hFTr  hDRB%  hTRB%  hAST%  hSTL%  hBLK%  hDRtg  \n",
       "0  0.183   58.9   40.4   59.5    9.4    6.0  111.2  \n",
       "\n",
       "[1 rows x 92 columns]"
      ]
     },
     "execution_count": 4,
     "metadata": {},
     "output_type": "execute_result"
    }
   ],
   "source": [
    "games_2016 = pd.read_csv('./Data/CSV_files/Final_data_2016')\n",
    "\n",
    "if 'Unnamed: 0' in games_2016.columns :\n",
    "    del games_2016['Unnamed: 0']\n",
    "\n",
    "games_2016.insert(0,'Season',2016)\n",
    "games_2016.GameDate =  pd.to_datetime(games_2016.GameDate)\n",
    "\n",
    "print games_2016.shape\n",
    "games_2016.head(1)"
   ]
  },
  {
   "cell_type": "code",
   "execution_count": 5,
   "metadata": {
    "collapsed": false
   },
   "outputs": [
    {
     "name": "stdout",
     "output_type": "stream",
     "text": [
      "(1311, 92)\n"
     ]
    },
    {
     "data": {
      "text/html": [
       "<div>\n",
       "<table border=\"1\" class=\"dataframe\">\n",
       "  <thead>\n",
       "    <tr style=\"text-align: right;\">\n",
       "      <th></th>\n",
       "      <th>Season</th>\n",
       "      <th>GameDate</th>\n",
       "      <th>GameTime</th>\n",
       "      <th>HostName</th>\n",
       "      <th>HostScore</th>\n",
       "      <th>GuestName</th>\n",
       "      <th>GuestScore</th>\n",
       "      <th>host_shortname</th>\n",
       "      <th>GameId</th>\n",
       "      <th>gq1</th>\n",
       "      <th>...</th>\n",
       "      <th>hPTS</th>\n",
       "      <th>hTS%</th>\n",
       "      <th>h3PAR</th>\n",
       "      <th>hFTr</th>\n",
       "      <th>hDRB%</th>\n",
       "      <th>hTRB%</th>\n",
       "      <th>hAST%</th>\n",
       "      <th>hSTL%</th>\n",
       "      <th>hBLK%</th>\n",
       "      <th>hDRtg</th>\n",
       "    </tr>\n",
       "  </thead>\n",
       "  <tbody>\n",
       "    <tr>\n",
       "      <th>0</th>\n",
       "      <td>2015</td>\n",
       "      <td>2014-10-28</td>\n",
       "      <td>10:30 pm</td>\n",
       "      <td>Los Angeles Lakers</td>\n",
       "      <td>90</td>\n",
       "      <td>Houston Rockets</td>\n",
       "      <td>108</td>\n",
       "      <td>LAL</td>\n",
       "      <td>201410280LAL</td>\n",
       "      <td>31</td>\n",
       "      <td>...</td>\n",
       "      <td>90.0</td>\n",
       "      <td>0.468</td>\n",
       "      <td>0.127</td>\n",
       "      <td>0.494</td>\n",
       "      <td>64.1</td>\n",
       "      <td>43.4</td>\n",
       "      <td>57.1</td>\n",
       "      <td>7.7</td>\n",
       "      <td>6.8</td>\n",
       "      <td>118.8</td>\n",
       "    </tr>\n",
       "  </tbody>\n",
       "</table>\n",
       "<p>1 rows × 92 columns</p>\n",
       "</div>"
      ],
      "text/plain": [
       "   Season   GameDate  GameTime            HostName  HostScore  \\\n",
       "0    2015 2014-10-28  10:30 pm  Los Angeles Lakers         90   \n",
       "\n",
       "         GuestName  GuestScore host_shortname        GameId  gq1  ...    hPTS  \\\n",
       "0  Houston Rockets         108            LAL  201410280LAL   31  ...    90.0   \n",
       "\n",
       "    hTS%  h3PAR   hFTr  hDRB%  hTRB%  hAST%  hSTL%  hBLK%  hDRtg  \n",
       "0  0.468  0.127  0.494   64.1   43.4   57.1    7.7    6.8  118.8  \n",
       "\n",
       "[1 rows x 92 columns]"
      ]
     },
     "execution_count": 5,
     "metadata": {},
     "output_type": "execute_result"
    }
   ],
   "source": [
    "games_2015 = pd.read_csv('./Data/CSV_files/Final_data_2015') \n",
    "\n",
    "if 'Unnamed: 0' in games_2015.columns :\n",
    "    del games_2015['Unnamed: 0']\n",
    "    \n",
    "games_2015.insert(0,'Season',2015)\n",
    "games_2015.GameDate =  pd.to_datetime(games_2015.GameDate)\n",
    "\n",
    "print games_2015.shape\n",
    "games_2015.head(1)"
   ]
  },
  {
   "cell_type": "code",
   "execution_count": 6,
   "metadata": {
    "collapsed": false
   },
   "outputs": [
    {
     "name": "stdout",
     "output_type": "stream",
     "text": [
      "(1319, 92)\n"
     ]
    },
    {
     "data": {
      "text/html": [
       "<div>\n",
       "<table border=\"1\" class=\"dataframe\">\n",
       "  <thead>\n",
       "    <tr style=\"text-align: right;\">\n",
       "      <th></th>\n",
       "      <th>Season</th>\n",
       "      <th>GameDate</th>\n",
       "      <th>GameTime</th>\n",
       "      <th>HostName</th>\n",
       "      <th>HostScore</th>\n",
       "      <th>GuestName</th>\n",
       "      <th>GuestScore</th>\n",
       "      <th>host_shortname</th>\n",
       "      <th>GameId</th>\n",
       "      <th>gq1</th>\n",
       "      <th>...</th>\n",
       "      <th>hPTS</th>\n",
       "      <th>hTS%</th>\n",
       "      <th>h3PAR</th>\n",
       "      <th>hFTr</th>\n",
       "      <th>hDRB%</th>\n",
       "      <th>hTRB%</th>\n",
       "      <th>hAST%</th>\n",
       "      <th>hSTL%</th>\n",
       "      <th>hBLK%</th>\n",
       "      <th>hDRtg</th>\n",
       "    </tr>\n",
       "  </thead>\n",
       "  <tbody>\n",
       "    <tr>\n",
       "      <th>0</th>\n",
       "      <td>2014</td>\n",
       "      <td>2013-10-29</td>\n",
       "      <td>7:00 pm</td>\n",
       "      <td>Indiana Pacers</td>\n",
       "      <td>97</td>\n",
       "      <td>Orlando Magic</td>\n",
       "      <td>87</td>\n",
       "      <td>IND</td>\n",
       "      <td>201310290IND</td>\n",
       "      <td>18</td>\n",
       "      <td>...</td>\n",
       "      <td>97.0</td>\n",
       "      <td>0.57</td>\n",
       "      <td>0.239</td>\n",
       "      <td>0.451</td>\n",
       "      <td>72.3</td>\n",
       "      <td>53.0</td>\n",
       "      <td>50.0</td>\n",
       "      <td>4.2</td>\n",
       "      <td>24.3</td>\n",
       "      <td>91.6</td>\n",
       "    </tr>\n",
       "  </tbody>\n",
       "</table>\n",
       "<p>1 rows × 92 columns</p>\n",
       "</div>"
      ],
      "text/plain": [
       "   Season   GameDate GameTime        HostName  HostScore      GuestName  \\\n",
       "0    2014 2013-10-29  7:00 pm  Indiana Pacers         97  Orlando Magic   \n",
       "\n",
       "   GuestScore host_shortname        GameId  gq1  ...    hPTS  hTS%  h3PAR  \\\n",
       "0          87            IND  201310290IND   18  ...    97.0  0.57  0.239   \n",
       "\n",
       "    hFTr  hDRB%  hTRB%  hAST%  hSTL%  hBLK%  hDRtg  \n",
       "0  0.451   72.3   53.0   50.0    4.2   24.3   91.6  \n",
       "\n",
       "[1 rows x 92 columns]"
      ]
     },
     "execution_count": 6,
     "metadata": {},
     "output_type": "execute_result"
    }
   ],
   "source": [
    "games_2014 = pd.read_csv('./Data/CSV_files/Final_Data_2014') \n",
    "\n",
    "if 'Unnamed: 0' in games_2014.columns :\n",
    "    del games_2014['Unnamed: 0']\n",
    "    \n",
    "games_2014.insert(0,'Season',2014)\n",
    "games_2014.GameDate =  pd.to_datetime(games_2014.GameDate)\n",
    "\n",
    "\n",
    "print games_2014.shape\n",
    "games_2014.head(1)"
   ]
  },
  {
   "cell_type": "code",
   "execution_count": 7,
   "metadata": {
    "collapsed": false
   },
   "outputs": [
    {
     "name": "stdout",
     "output_type": "stream",
     "text": [
      "(1314, 92)\n"
     ]
    },
    {
     "data": {
      "text/html": [
       "<div>\n",
       "<table border=\"1\" class=\"dataframe\">\n",
       "  <thead>\n",
       "    <tr style=\"text-align: right;\">\n",
       "      <th></th>\n",
       "      <th>Season</th>\n",
       "      <th>GameDate</th>\n",
       "      <th>GameTime</th>\n",
       "      <th>HostName</th>\n",
       "      <th>HostScore</th>\n",
       "      <th>GuestName</th>\n",
       "      <th>GuestScore</th>\n",
       "      <th>host_shortname</th>\n",
       "      <th>GameId</th>\n",
       "      <th>gq1</th>\n",
       "      <th>...</th>\n",
       "      <th>hPTS</th>\n",
       "      <th>hTS%</th>\n",
       "      <th>h3PAR</th>\n",
       "      <th>hFTr</th>\n",
       "      <th>hDRB%</th>\n",
       "      <th>hTRB%</th>\n",
       "      <th>hAST%</th>\n",
       "      <th>hSTL%</th>\n",
       "      <th>hBLK%</th>\n",
       "      <th>hDRtg</th>\n",
       "    </tr>\n",
       "  </thead>\n",
       "  <tbody>\n",
       "    <tr>\n",
       "      <th>0</th>\n",
       "      <td>2013</td>\n",
       "      <td>2012-10-30</td>\n",
       "      <td>7:00 pm</td>\n",
       "      <td>Cleveland Cavaliers</td>\n",
       "      <td>94</td>\n",
       "      <td>Washington Wizards</td>\n",
       "      <td>84</td>\n",
       "      <td>CLE</td>\n",
       "      <td>201210300CLE</td>\n",
       "      <td>24</td>\n",
       "      <td>...</td>\n",
       "      <td>94.0</td>\n",
       "      <td>0.53</td>\n",
       "      <td>0.253</td>\n",
       "      <td>0.278</td>\n",
       "      <td>66.7</td>\n",
       "      <td>58.1</td>\n",
       "      <td>61.1</td>\n",
       "      <td>8.0</td>\n",
       "      <td>8.6</td>\n",
       "      <td>95.5</td>\n",
       "    </tr>\n",
       "  </tbody>\n",
       "</table>\n",
       "<p>1 rows × 92 columns</p>\n",
       "</div>"
      ],
      "text/plain": [
       "   Season   GameDate GameTime             HostName  HostScore  \\\n",
       "0    2013 2012-10-30  7:00 pm  Cleveland Cavaliers         94   \n",
       "\n",
       "            GuestName  GuestScore host_shortname        GameId  gq1  ...    \\\n",
       "0  Washington Wizards          84            CLE  201210300CLE   24  ...     \n",
       "\n",
       "   hPTS  hTS%  h3PAR   hFTr  hDRB%  hTRB%  hAST%  hSTL%  hBLK%  hDRtg  \n",
       "0  94.0  0.53  0.253  0.278   66.7   58.1   61.1    8.0    8.6   95.5  \n",
       "\n",
       "[1 rows x 92 columns]"
      ]
     },
     "execution_count": 7,
     "metadata": {},
     "output_type": "execute_result"
    }
   ],
   "source": [
    "games_2013 = pd.read_csv('./Data/CSV_files/Final_data_2013') \n",
    "\n",
    "if 'Unnamed: 0' in games_2013.columns :\n",
    "    del games_2013['Unnamed: 0']\n",
    "    \n",
    "games_2013.insert(0,'Season',2013)\n",
    "games_2013.GameDate =  pd.to_datetime(games_2013.GameDate)\n",
    "\n",
    "print games_2013.shape\n",
    "games_2013.head(1)"
   ]
  },
  {
   "cell_type": "code",
   "execution_count": 9,
   "metadata": {
    "collapsed": false
   },
   "outputs": [
    {
     "name": "stdout",
     "output_type": "stream",
     "text": [
      "(5989, 92)\n"
     ]
    },
    {
     "data": {
      "text/html": [
       "<div>\n",
       "<table border=\"1\" class=\"dataframe\">\n",
       "  <thead>\n",
       "    <tr style=\"text-align: right;\">\n",
       "      <th></th>\n",
       "      <th>Season</th>\n",
       "      <th>GameDate</th>\n",
       "      <th>GameTime</th>\n",
       "      <th>HostName</th>\n",
       "      <th>HostScore</th>\n",
       "      <th>GuestName</th>\n",
       "      <th>GuestScore</th>\n",
       "      <th>host_shortname</th>\n",
       "      <th>GameId</th>\n",
       "      <th>gq1</th>\n",
       "      <th>...</th>\n",
       "      <th>hPTS</th>\n",
       "      <th>hTS%</th>\n",
       "      <th>h3PAR</th>\n",
       "      <th>hFTr</th>\n",
       "      <th>hDRB%</th>\n",
       "      <th>hTRB%</th>\n",
       "      <th>hAST%</th>\n",
       "      <th>hSTL%</th>\n",
       "      <th>hBLK%</th>\n",
       "      <th>hDRtg</th>\n",
       "    </tr>\n",
       "  </thead>\n",
       "  <tbody>\n",
       "    <tr>\n",
       "      <th>0</th>\n",
       "      <td>2013</td>\n",
       "      <td>2012-10-30</td>\n",
       "      <td>7:00 pm</td>\n",
       "      <td>Cleveland Cavaliers</td>\n",
       "      <td>94</td>\n",
       "      <td>Washington Wizards</td>\n",
       "      <td>84</td>\n",
       "      <td>CLE</td>\n",
       "      <td>201210300CLE</td>\n",
       "      <td>24</td>\n",
       "      <td>...</td>\n",
       "      <td>94.0</td>\n",
       "      <td>0.530</td>\n",
       "      <td>0.253</td>\n",
       "      <td>0.278</td>\n",
       "      <td>66.7</td>\n",
       "      <td>58.1</td>\n",
       "      <td>61.1</td>\n",
       "      <td>8.0</td>\n",
       "      <td>8.6</td>\n",
       "      <td>95.5</td>\n",
       "    </tr>\n",
       "    <tr>\n",
       "      <th>1</th>\n",
       "      <td>2013</td>\n",
       "      <td>2012-10-30</td>\n",
       "      <td>7:30 pm</td>\n",
       "      <td>Los Angeles Lakers</td>\n",
       "      <td>91</td>\n",
       "      <td>Dallas Mavericks</td>\n",
       "      <td>99</td>\n",
       "      <td>LAL</td>\n",
       "      <td>201210300LAL</td>\n",
       "      <td>25</td>\n",
       "      <td>...</td>\n",
       "      <td>91.0</td>\n",
       "      <td>0.502</td>\n",
       "      <td>0.169</td>\n",
       "      <td>0.403</td>\n",
       "      <td>77.5</td>\n",
       "      <td>53.5</td>\n",
       "      <td>63.2</td>\n",
       "      <td>6.6</td>\n",
       "      <td>7.1</td>\n",
       "      <td>108.7</td>\n",
       "    </tr>\n",
       "  </tbody>\n",
       "</table>\n",
       "<p>2 rows × 92 columns</p>\n",
       "</div>"
      ],
      "text/plain": [
       "   Season   GameDate GameTime             HostName  HostScore  \\\n",
       "0    2013 2012-10-30  7:00 pm  Cleveland Cavaliers         94   \n",
       "1    2013 2012-10-30  7:30 pm   Los Angeles Lakers         91   \n",
       "\n",
       "            GuestName  GuestScore host_shortname        GameId  gq1  ...    \\\n",
       "0  Washington Wizards          84            CLE  201210300CLE   24  ...     \n",
       "1    Dallas Mavericks          99            LAL  201210300LAL   25  ...     \n",
       "\n",
       "   hPTS   hTS%  h3PAR   hFTr  hDRB%  hTRB%  hAST%  hSTL%  hBLK%  hDRtg  \n",
       "0  94.0  0.530  0.253  0.278   66.7   58.1   61.1    8.0    8.6   95.5  \n",
       "1  91.0  0.502  0.169  0.403   77.5   53.5   63.2    6.6    7.1  108.7  \n",
       "\n",
       "[2 rows x 92 columns]"
      ]
     },
     "execution_count": 9,
     "metadata": {},
     "output_type": "execute_result"
    }
   ],
   "source": [
    "games = pd.concat([games_2013,games_2014,games_2015,games_2016,games_2017,games_new_games])\n",
    "games = games.sort_values('GameDate').reset_index()\n",
    "if 'index' in games.columns :\n",
    "    del games['index']\n",
    "print games.shape\n",
    "games.head(2)"
   ]
  },
  {
   "cell_type": "code",
   "execution_count": 10,
   "metadata": {
    "collapsed": false
   },
   "outputs": [
    {
     "name": "stderr",
     "output_type": "stream",
     "text": [
      "/Users/behdad/anaconda/envs/dsi/lib/python2.7/site-packages/ipykernel/__main__.py:12: SettingWithCopyWarning: \n",
      "A value is trying to be set on a copy of a slice from a DataFrame\n",
      "\n",
      "See the caveats in the documentation: http://pandas.pydata.org/pandas-docs/stable/indexing.html#indexing-view-versus-copy\n",
      "/Users/behdad/anaconda/envs/dsi/lib/python2.7/site-packages/ipykernel/__main__.py:13: SettingWithCopyWarning: \n",
      "A value is trying to be set on a copy of a slice from a DataFrame\n",
      "\n",
      "See the caveats in the documentation: http://pandas.pydata.org/pandas-docs/stable/indexing.html#indexing-view-versus-copy\n"
     ]
    }
   ],
   "source": [
    "def team_name_corrector(teamname) :\n",
    "    if teamname == 'Charlotte Bobcats' :\n",
    "        return 'Charlotte Hornets'\n",
    "    elif teamname == 'New Orleans Hornets' :\n",
    "        return 'New Orleans Pelicans'\n",
    "    else :\n",
    "        return teamname\n",
    "games.HostName = games.HostName.apply(team_name_corrector)\n",
    "games.GuestName = games.GuestName.apply(team_name_corrector)\n",
    "\n",
    "\n",
    "games['host_shortname'][games.host_shortname == 'CHA'] = 'CHO'\n",
    "games['host_shortname'][games.host_shortname == 'NOH'] = 'NOP'"
   ]
  },
  {
   "cell_type": "code",
   "execution_count": 11,
   "metadata": {
    "collapsed": false,
    "scrolled": true
   },
   "outputs": [],
   "source": [
    "#[x for x in games.columns]"
   ]
  },
  {
   "cell_type": "markdown",
   "metadata": {},
   "source": [
    "# import and concat bet data for different seasons"
   ]
  },
  {
   "cell_type": "code",
   "execution_count": 12,
   "metadata": {
    "collapsed": false
   },
   "outputs": [
    {
     "name": "stdout",
     "output_type": "stream",
     "text": [
      "(114, 7)\n"
     ]
    },
    {
     "data": {
      "text/html": [
       "<div>\n",
       "<table border=\"1\" class=\"dataframe\">\n",
       "  <thead>\n",
       "    <tr style=\"text-align: right;\">\n",
       "      <th></th>\n",
       "      <th>first_team_score</th>\n",
       "      <th>game_date</th>\n",
       "      <th>game_line</th>\n",
       "      <th>second_team_name</th>\n",
       "      <th>second_team_score</th>\n",
       "      <th>total_line</th>\n",
       "      <th>second_team_full_name</th>\n",
       "    </tr>\n",
       "  </thead>\n",
       "  <tbody>\n",
       "    <tr>\n",
       "      <th>0</th>\n",
       "      <td>114</td>\n",
       "      <td>2017-01-25</td>\n",
       "      <td>-1.5</td>\n",
       "      <td>New Orleans</td>\n",
       "      <td>105</td>\n",
       "      <td>217.5</td>\n",
       "      <td>New Orleans Pelicans</td>\n",
       "    </tr>\n",
       "  </tbody>\n",
       "</table>\n",
       "</div>"
      ],
      "text/plain": [
       "   first_team_score  game_date  game_line second_team_name  second_team_score  \\\n",
       "0               114 2017-01-25       -1.5      New Orleans                105   \n",
       "\n",
       "   total_line second_team_full_name  \n",
       "0       217.5  New Orleans Pelicans  "
      ]
     },
     "execution_count": 12,
     "metadata": {},
     "output_type": "execute_result"
    }
   ],
   "source": [
    "bets_new_games = pd.read_csv('./Data/CSV_files/bet_data_newgame')\n",
    "\n",
    "if 'Unnamed: 0' in bets_new_games.columns :\n",
    "    del bets_new_games['Unnamed: 0']\n",
    "\n",
    "bets_new_games.game_date =  pd.to_datetime(bets_new_games.game_date)\n",
    "\n",
    "print bets_new_games.shape\n",
    "bets_new_games.head(1)"
   ]
  },
  {
   "cell_type": "code",
   "execution_count": 13,
   "metadata": {
    "collapsed": false
   },
   "outputs": [
    {
     "name": "stdout",
     "output_type": "stream",
     "text": [
      "(1356, 7)\n"
     ]
    },
    {
     "data": {
      "text/html": [
       "<div>\n",
       "<table border=\"1\" class=\"dataframe\">\n",
       "  <thead>\n",
       "    <tr style=\"text-align: right;\">\n",
       "      <th></th>\n",
       "      <th>first_team_score</th>\n",
       "      <th>game_date</th>\n",
       "      <th>game_line</th>\n",
       "      <th>second_team_name</th>\n",
       "      <th>second_team_score</th>\n",
       "      <th>total_line</th>\n",
       "      <th>second_team_full_name</th>\n",
       "    </tr>\n",
       "  </thead>\n",
       "  <tbody>\n",
       "    <tr>\n",
       "      <th>0</th>\n",
       "      <td>120</td>\n",
       "      <td>2016-10-26</td>\n",
       "      <td>6.0</td>\n",
       "      <td>Houston</td>\n",
       "      <td>114</td>\n",
       "      <td>223.5</td>\n",
       "      <td>Houston Rockets</td>\n",
       "    </tr>\n",
       "  </tbody>\n",
       "</table>\n",
       "</div>"
      ],
      "text/plain": [
       "   first_team_score  game_date  game_line second_team_name  second_team_score  \\\n",
       "0               120 2016-10-26        6.0          Houston                114   \n",
       "\n",
       "   total_line second_team_full_name  \n",
       "0       223.5       Houston Rockets  "
      ]
     },
     "execution_count": 13,
     "metadata": {},
     "output_type": "execute_result"
    }
   ],
   "source": [
    "bets_2017 = pd.read_csv('./Data/CSV_files/bet_data_2017')\n",
    "\n",
    "if 'Unnamed: 0' in bets_2017.columns :\n",
    "    del bets_2017['Unnamed: 0']\n",
    "\n",
    "bets_2017.game_date =  pd.to_datetime(bets_2017.game_date)\n",
    "\n",
    "print bets_2017.shape\n",
    "bets_2017.head(1)"
   ]
  },
  {
   "cell_type": "code",
   "execution_count": 14,
   "metadata": {
    "collapsed": false
   },
   "outputs": [
    {
     "name": "stdout",
     "output_type": "stream",
     "text": [
      "(2632, 7)\n"
     ]
    },
    {
     "data": {
      "text/html": [
       "<div>\n",
       "<table border=\"1\" class=\"dataframe\">\n",
       "  <thead>\n",
       "    <tr style=\"text-align: right;\">\n",
       "      <th></th>\n",
       "      <th>first_team_score</th>\n",
       "      <th>game_date</th>\n",
       "      <th>game_line</th>\n",
       "      <th>second_team_name</th>\n",
       "      <th>second_team_score</th>\n",
       "      <th>total_line</th>\n",
       "      <th>second_team_full_name</th>\n",
       "    </tr>\n",
       "  </thead>\n",
       "  <tbody>\n",
       "    <tr>\n",
       "      <th>0</th>\n",
       "      <td>112</td>\n",
       "      <td>2015-10-28</td>\n",
       "      <td>-2.5</td>\n",
       "      <td>Minnesota</td>\n",
       "      <td>111</td>\n",
       "      <td>203.0</td>\n",
       "      <td>Minnesota Timberwolves</td>\n",
       "    </tr>\n",
       "  </tbody>\n",
       "</table>\n",
       "</div>"
      ],
      "text/plain": [
       "   first_team_score  game_date  game_line second_team_name  second_team_score  \\\n",
       "0               112 2015-10-28       -2.5        Minnesota                111   \n",
       "\n",
       "   total_line   second_team_full_name  \n",
       "0       203.0  Minnesota Timberwolves  "
      ]
     },
     "execution_count": 14,
     "metadata": {},
     "output_type": "execute_result"
    }
   ],
   "source": [
    "bets_2016 = pd.read_csv('./Data/CSV_files/bet_data_2016')\n",
    "\n",
    "if 'Unnamed: 0' in bets_2016.columns :\n",
    "    del bets_2016['Unnamed: 0']\n",
    "\n",
    "bets_2016.game_date =  pd.to_datetime(bets_2016.game_date)\n",
    "\n",
    "print bets_2016.shape\n",
    "bets_2016.head(1)"
   ]
  },
  {
   "cell_type": "code",
   "execution_count": 15,
   "metadata": {
    "collapsed": false
   },
   "outputs": [
    {
     "name": "stdout",
     "output_type": "stream",
     "text": [
      "(2622, 7)\n"
     ]
    },
    {
     "data": {
      "text/html": [
       "<div>\n",
       "<table border=\"1\" class=\"dataframe\">\n",
       "  <thead>\n",
       "    <tr style=\"text-align: right;\">\n",
       "      <th></th>\n",
       "      <th>first_team_score</th>\n",
       "      <th>game_date</th>\n",
       "      <th>game_line</th>\n",
       "      <th>second_team_name</th>\n",
       "      <th>second_team_score</th>\n",
       "      <th>total_line</th>\n",
       "      <th>second_team_full_name</th>\n",
       "    </tr>\n",
       "  </thead>\n",
       "  <tbody>\n",
       "    <tr>\n",
       "      <th>0</th>\n",
       "      <td>108</td>\n",
       "      <td>2014-10-28</td>\n",
       "      <td>7.0</td>\n",
       "      <td>Houston</td>\n",
       "      <td>90</td>\n",
       "      <td>207.0</td>\n",
       "      <td>Houston Rockets</td>\n",
       "    </tr>\n",
       "  </tbody>\n",
       "</table>\n",
       "</div>"
      ],
      "text/plain": [
       "   first_team_score  game_date  game_line second_team_name  second_team_score  \\\n",
       "0               108 2014-10-28        7.0          Houston                 90   \n",
       "\n",
       "   total_line second_team_full_name  \n",
       "0       207.0       Houston Rockets  "
      ]
     },
     "execution_count": 15,
     "metadata": {},
     "output_type": "execute_result"
    }
   ],
   "source": [
    "bets_2015 = pd.read_csv('./Data/CSV_files/bet_data_2015')\n",
    "\n",
    "if 'Unnamed: 0' in bets_2015.columns :\n",
    "    del bets_2015['Unnamed: 0']\n",
    "\n",
    "bets_2015.game_date =  pd.to_datetime(bets_2015.game_date)\n",
    "\n",
    "print bets_2015.shape\n",
    "bets_2015.head(1)"
   ]
  },
  {
   "cell_type": "code",
   "execution_count": 16,
   "metadata": {
    "collapsed": false
   },
   "outputs": [
    {
     "name": "stdout",
     "output_type": "stream",
     "text": [
      "(2638, 7)\n"
     ]
    },
    {
     "data": {
      "text/html": [
       "<div>\n",
       "<table border=\"1\" class=\"dataframe\">\n",
       "  <thead>\n",
       "    <tr style=\"text-align: right;\">\n",
       "      <th></th>\n",
       "      <th>first_team_score</th>\n",
       "      <th>game_date</th>\n",
       "      <th>game_line</th>\n",
       "      <th>second_team_name</th>\n",
       "      <th>second_team_score</th>\n",
       "      <th>total_line</th>\n",
       "      <th>second_team_full_name</th>\n",
       "    </tr>\n",
       "  </thead>\n",
       "  <tbody>\n",
       "    <tr>\n",
       "      <th>0</th>\n",
       "      <td>90</td>\n",
       "      <td>2013-10-30</td>\n",
       "      <td>-7.5</td>\n",
       "      <td>Milwaukee</td>\n",
       "      <td>83</td>\n",
       "      <td>196.5</td>\n",
       "      <td>Milwaukee Bucks</td>\n",
       "    </tr>\n",
       "  </tbody>\n",
       "</table>\n",
       "</div>"
      ],
      "text/plain": [
       "   first_team_score  game_date  game_line second_team_name  second_team_score  \\\n",
       "0                90 2013-10-30       -7.5        Milwaukee                 83   \n",
       "\n",
       "   total_line second_team_full_name  \n",
       "0       196.5       Milwaukee Bucks  "
      ]
     },
     "execution_count": 16,
     "metadata": {},
     "output_type": "execute_result"
    }
   ],
   "source": [
    "bets_2014 = pd.read_csv('./Data/CSV_files/bet_data_2014')\n",
    "\n",
    "if 'Unnamed: 0' in bets_2014.columns :\n",
    "    del bets_2014['Unnamed: 0']\n",
    "\n",
    "bets_2014.game_date =  pd.to_datetime(bets_2014.game_date)\n",
    "\n",
    "print bets_2014.shape\n",
    "bets_2014.head(1)"
   ]
  },
  {
   "cell_type": "code",
   "execution_count": 17,
   "metadata": {
    "collapsed": false
   },
   "outputs": [
    {
     "name": "stdout",
     "output_type": "stream",
     "text": [
      "(2628, 7)\n"
     ]
    },
    {
     "data": {
      "text/html": [
       "<div>\n",
       "<table border=\"1\" class=\"dataframe\">\n",
       "  <thead>\n",
       "    <tr style=\"text-align: right;\">\n",
       "      <th></th>\n",
       "      <th>first_team_score</th>\n",
       "      <th>game_date</th>\n",
       "      <th>game_line</th>\n",
       "      <th>second_team_name</th>\n",
       "      <th>second_team_score</th>\n",
       "      <th>total_line</th>\n",
       "      <th>second_team_full_name</th>\n",
       "    </tr>\n",
       "  </thead>\n",
       "  <tbody>\n",
       "    <tr>\n",
       "      <th>0</th>\n",
       "      <td>86</td>\n",
       "      <td>2012-11-01</td>\n",
       "      <td>2.0</td>\n",
       "      <td>San Antonio</td>\n",
       "      <td>84</td>\n",
       "      <td>204.0</td>\n",
       "      <td>San Antonio Spurs</td>\n",
       "    </tr>\n",
       "  </tbody>\n",
       "</table>\n",
       "</div>"
      ],
      "text/plain": [
       "   first_team_score  game_date  game_line second_team_name  second_team_score  \\\n",
       "0                86 2012-11-01        2.0      San Antonio                 84   \n",
       "\n",
       "   total_line second_team_full_name  \n",
       "0       204.0     San Antonio Spurs  "
      ]
     },
     "execution_count": 17,
     "metadata": {},
     "output_type": "execute_result"
    }
   ],
   "source": [
    "bets_2013 = pd.read_csv('./Data/CSV_files/bet_data_2013')\n",
    "\n",
    "if 'Unnamed: 0' in bets_2013.columns :\n",
    "    del bets_2013['Unnamed: 0']\n",
    "\n",
    "bets_2013.game_date =  pd.to_datetime(bets_2013.game_date)\n",
    "\n",
    "print bets_2013.shape\n",
    "bets_2013.head(1)"
   ]
  },
  {
   "cell_type": "code",
   "execution_count": 18,
   "metadata": {
    "collapsed": false,
    "scrolled": true
   },
   "outputs": [],
   "source": [
    "bets = pd.concat([bets_2013,bets_2014,bets_2015,bets_2016,bets_2017,bets_new_games]).reset_index()\n",
    "if 'index' in bets.columns :\n",
    "    del bets['index']\n",
    "\n",
    "#bets.sort_values('game_date')"
   ]
  },
  {
   "cell_type": "code",
   "execution_count": 19,
   "metadata": {
    "collapsed": false,
    "scrolled": true
   },
   "outputs": [
    {
     "data": {
      "text/plain": [
       "((5989, 92), (11990, 7))"
      ]
     },
     "execution_count": 19,
     "metadata": {},
     "output_type": "execute_result"
    }
   ],
   "source": [
    "games.shape, bets.shape"
   ]
  },
  {
   "cell_type": "code",
   "execution_count": 20,
   "metadata": {
    "collapsed": true
   },
   "outputs": [],
   "source": [
    "def bet_lines(row) :\n",
    "    temp1 = bets[(bets.second_team_full_name == row['HostName']) & (bets.game_date == row['GameDate'])][['total_line']].values#[0][0]\n",
    "    row['total_line'] =temp1[0][0] #list(temp1)[0][0]\n",
    "    \n",
    "    #print temp1[0][0]\n",
    "    \n",
    "    temp2 = bets[(bets.second_team_full_name == row['HostName']) & (bets.game_date == row['GameDate'])][['game_line']].values#[0][0]\n",
    "    row['game_line'] = temp2[0][0]#-1*list(temp2)[0][0]\n",
    "    \n",
    "    #print -1*list(temp2)[0][0]\n",
    "    \n",
    "    return row\n",
    "\n",
    "games = games.apply(bet_lines,axis=1)"
   ]
  },
  {
   "cell_type": "code",
   "execution_count": 23,
   "metadata": {
    "collapsed": false
   },
   "outputs": [
    {
     "name": "stdout",
     "output_type": "stream",
     "text": [
      "(5989, 94) 2017-01-31 00:00:00\n"
     ]
    }
   ],
   "source": [
    "print games.shape,np.max(games.GameDate)"
   ]
  },
  {
   "cell_type": "code",
   "execution_count": 24,
   "metadata": {
    "collapsed": true
   },
   "outputs": [],
   "source": [
    "games.to_csv('./Data/CSV_files/games_bets_ready4FE')"
   ]
  },
  {
   "cell_type": "code",
   "execution_count": null,
   "metadata": {
    "collapsed": true
   },
   "outputs": [],
   "source": [
    "MATCH = pd.DataFrame(\n",
    "        data=[[2017,'2017-02-01','19:30 pm','Golden State Warriors',0,'Charlotte Hornets',0,'GSW','201702010GSW',\n",
    "        0.,0.,0.,0.,0.,0.,0.,0.,0.,0.,0.,0.,0.,0.,0.,0.,0.,0.,0.,0.,0.,\n",
    "        0.,0.,0.,0.,0.,0.,0.,0.,0.,0.,0.,0.,0.,0.,0.,0.,0.,0.,0.,0.,0.,\n",
    "        0.,0.,0.,0.,0.,0.,0.,0.,0.,0.,0.,0.,0.,0.,0.,0.,0.,0.,0.,0.,0.,\n",
    "        0.,0.,0.,0.,0.,0.,0.,0.,0.,0.,0.,0.,0.,0.,0.,0.,0.,0.,0.,0.,        \n",
    "        225.5,-14]],\n",
    "        columns = games.columns)\n",
    "\n",
    "games = pd.concat([games,MATCH]).reset_index()\n",
    "if 'index' in games.columns :\n",
    "    del games['index']\n",
    "\n",
    "games.GameDate =  pd.to_datetime(games.GameDate)\n"
   ]
  },
  {
   "cell_type": "code",
   "execution_count": null,
   "metadata": {
    "collapsed": true
   },
   "outputs": [],
   "source": []
  },
  {
   "cell_type": "code",
   "execution_count": null,
   "metadata": {
    "collapsed": true
   },
   "outputs": [],
   "source": []
  }
 ],
 "metadata": {
  "anaconda-cloud": {},
  "kernelspec": {
   "display_name": "Python [conda env:dsi]",
   "language": "python",
   "name": "conda-env-dsi-py"
  },
  "language_info": {
   "codemirror_mode": {
    "name": "ipython",
    "version": 2
   },
   "file_extension": ".py",
   "mimetype": "text/x-python",
   "name": "python",
   "nbconvert_exporter": "python",
   "pygments_lexer": "ipython2",
   "version": "2.7.12"
  }
 },
 "nbformat": 4,
 "nbformat_minor": 1
}
