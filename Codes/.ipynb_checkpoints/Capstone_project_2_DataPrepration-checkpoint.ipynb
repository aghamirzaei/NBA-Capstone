{
 "cells": [
  {
   "cell_type": "code",
   "execution_count": 435,
   "metadata": {
    "collapsed": false
   },
   "outputs": [],
   "source": [
    "import pandas as pd\n",
    "import numpy as np\n",
    "\n",
    "import seaborn as sns\n",
    "import matplotlib.pyplot as plt\n",
    "%matplotlib inline"
   ]
  },
  {
   "cell_type": "markdown",
   "metadata": {},
   "source": [
    "# Import the data for games and bets, ready for Feature Engineering"
   ]
  },
  {
   "cell_type": "code",
   "execution_count": 1286,
   "metadata": {
    "collapsed": false
   },
   "outputs": [
    {
     "name": "stdout",
     "output_type": "stream",
     "text": [
      "(5989, 94)\n"
     ]
    },
    {
     "data": {
      "text/html": [
       "<div>\n",
       "<table border=\"1\" class=\"dataframe\">\n",
       "  <thead>\n",
       "    <tr style=\"text-align: right;\">\n",
       "      <th></th>\n",
       "      <th>Season</th>\n",
       "      <th>GameDate</th>\n",
       "      <th>GameTime</th>\n",
       "      <th>HostName</th>\n",
       "      <th>HostScore</th>\n",
       "      <th>GuestName</th>\n",
       "      <th>GuestScore</th>\n",
       "      <th>host_shortname</th>\n",
       "      <th>GameId</th>\n",
       "      <th>gq1</th>\n",
       "      <th>...</th>\n",
       "      <th>h3PAR</th>\n",
       "      <th>hFTr</th>\n",
       "      <th>hDRB%</th>\n",
       "      <th>hTRB%</th>\n",
       "      <th>hAST%</th>\n",
       "      <th>hSTL%</th>\n",
       "      <th>hBLK%</th>\n",
       "      <th>hDRtg</th>\n",
       "      <th>total_line</th>\n",
       "      <th>game_line</th>\n",
       "    </tr>\n",
       "  </thead>\n",
       "  <tbody>\n",
       "    <tr>\n",
       "      <th>0</th>\n",
       "      <td>2013</td>\n",
       "      <td>2012-10-30</td>\n",
       "      <td>7:00 pm</td>\n",
       "      <td>Cleveland Cavaliers</td>\n",
       "      <td>94</td>\n",
       "      <td>Washington Wizards</td>\n",
       "      <td>84</td>\n",
       "      <td>CLE</td>\n",
       "      <td>201210300CLE</td>\n",
       "      <td>24</td>\n",
       "      <td>...</td>\n",
       "      <td>0.253</td>\n",
       "      <td>0.278</td>\n",
       "      <td>66.7</td>\n",
       "      <td>58.1</td>\n",
       "      <td>61.1</td>\n",
       "      <td>8.0</td>\n",
       "      <td>8.6</td>\n",
       "      <td>95.5</td>\n",
       "      <td>191.0</td>\n",
       "      <td>6.0</td>\n",
       "    </tr>\n",
       "  </tbody>\n",
       "</table>\n",
       "<p>1 rows × 94 columns</p>\n",
       "</div>"
      ],
      "text/plain": [
       "   Season   GameDate GameTime             HostName  HostScore  \\\n",
       "0    2013 2012-10-30  7:00 pm  Cleveland Cavaliers         94   \n",
       "\n",
       "            GuestName  GuestScore host_shortname        GameId  gq1  \\\n",
       "0  Washington Wizards          84            CLE  201210300CLE   24   \n",
       "\n",
       "     ...      h3PAR   hFTr  hDRB%  hTRB%  hAST%  hSTL%  hBLK%  hDRtg  \\\n",
       "0    ...      0.253  0.278   66.7   58.1   61.1    8.0    8.6   95.5   \n",
       "\n",
       "   total_line  game_line  \n",
       "0       191.0        6.0  \n",
       "\n",
       "[1 rows x 94 columns]"
      ]
     },
     "execution_count": 1286,
     "metadata": {},
     "output_type": "execute_result"
    }
   ],
   "source": [
    "games = pd.read_csv('./Data/CSV_files/games_bets_ready4FE')\n",
    "\n",
    "if 'Unnamed: 0' in games.columns :\n",
    "    del games['Unnamed: 0']\n",
    "\n",
    "games.GameDate =  pd.to_datetime(games.GameDate)\n",
    "\n",
    "print games.shape\n",
    "games.head(1)"
   ]
  },
  {
   "cell_type": "markdown",
   "metadata": {},
   "source": [
    "# Find : \n",
    "- Statistical average of home and away team to use for heads up matches \n",
    "- Game Ranker. By Game in Season, By home/away in Season, By heads up in Season/All\n",
    "- If last game had an over time quarter and how many (phisical ability, minutes played)\n",
    "- Recovery time before each game\n",
    "- Who was Winner/loser \n",
    "- How many wins and loses as host or guest for host and guest\n",
    "- Games behind\n",
    "- Streak for home/away\n",
    "- Streak for playing as home/away\n",
    "#### Future Work : \n",
    "- Last 10 games win and loses\n",
    "- Time zone change or milage traveled\n",
    "- Win/Lose By conferance or adding some features to show the game zone\n",
    "- how many games in last 5 day\n",
    "- Table 3 Rest days before upcoming game(p 64)\n",
    "- Scrape players Statistics, remove the players that has rest/injured/banned. aggregate on minutes played for other players\n",
    "## Aggregated Features: \n",
    "- Last 10(n) games As home/away\n",
    "- Last 3(n) Heads up matches\n",
    "#### Future Work\n",
    "- Last 10(n) matches performance"
   ]
  },
  {
   "cell_type": "code",
   "execution_count": 1288,
   "metadata": {
    "collapsed": false
   },
   "outputs": [],
   "source": [
    "#games['score_diff'] = games.hq1 + games.hq2 + games.hq3 + games.hq4 - games.gq1 - games.gq2 - games.gq3 - games.gq4 \n",
    "games['ORtg'] = (games['hORtg'] + games['gORtg'])/2.\n",
    "games['STL%'] = (games['hSTL%'] + games['gSTL%'])/2.\n",
    "games['TOV%'] = (games['hTOV%'] + games['gTOV%'])/2.\n",
    "games['ORB%'] = (games['hORB%'] + games['gORB%'])/2.\n",
    "games['DRB%'] = (games['hDRB%'] + games['gDRB%'])/2.\n",
    "games['TRB%'] = (games['hTRB%'] + games['gTRB%'])/2.\n",
    "games['BLK%'] = (games['hBLK%'] + games['gBLK%'])/2.\n",
    "games['PF'] = (games['hPF'] + games['gPF'])/2.\n",
    "games['Pace'] = (games['hPace'] + games['gPace'])/2.\n",
    "games['FGA'] = (games['hFGA'] + games['gFGA'])/2.\n",
    "games['DRtg'] = (games['hDRtg'] + games['gDRtg'])/2.\n",
    "games['q1'] = (games['hq1'] + games['gq1'])/2.\n",
    "games['q2'] = (games['hq2'] + games['gq2'])/2.\n",
    "games['q3'] = (games['hq3'] + games['gq3'])/2.\n",
    "games['q4'] = (games['hq4'] + games['gq4'])/2."
   ]
  },
  {
   "cell_type": "code",
   "execution_count": 1289,
   "metadata": {
    "collapsed": true
   },
   "outputs": [],
   "source": [
    "def gameranker (row) :\n",
    "\n",
    "    row['Host_HostRank'] = 1 + len(games[(games.Season == row['Season']) & (games.GameDate < row['GameDate']) & (games.HostName == row['HostName'])])\n",
    "    row['Host_GameRank'] = 1 + len(games[(games.Season == row['Season']) & (games.GameDate < row['GameDate']) & ((games.HostName == row['HostName']) | (games.GuestName == row['HostName']))])\n",
    "\n",
    "    row['Guest_GuestRank'] = 1+len(games[(games.Season == row['Season']) & (games.GameDate < row['GameDate']) & (games.GuestName == row['GuestName'])])\n",
    "    row['Guest_GameRank'] = 1 +len(games[(games.Season == row['Season']) & (games.GameDate < row['GameDate']) & ((games.HostName == row['GuestName']) | (games.GuestName == row['GuestName']))])\n",
    "\n",
    "    row['Headsup_GameRank_Season'] = 1 + len(games[(games.Season == row['Season']) & (games.GameDate < row['GameDate']) & ((games.HostName == row['HostName']) | (games.GuestName == row['HostName'])) & ((games.HostName == row['GuestName']) | (games.GuestName == row['GuestName']))])\n",
    "    row['Headsup_GameRank_All'] = 1 + len(games[(games.GameDate < row['GameDate']) & ((games.HostName == row['HostName']) | (games.GuestName == row['HostName'])) & ((games.HostName == row['GuestName']) | (games.GuestName == row['GuestName']))])\n",
    "\n",
    "    return row\n",
    "\n",
    "games = games.apply(gameranker,axis=1)"
   ]
  },
  {
   "cell_type": "code",
   "execution_count": 1189,
   "metadata": {
    "collapsed": true
   },
   "outputs": [],
   "source": [
    "def over_time_counter(row) :\n",
    "    counter = 0\n",
    "    if row['hot1'] + row['got1'] > 0 : \n",
    "        counter += 1\n",
    "    if row['hot2'] + row['got2'] > 0 : \n",
    "        counter += 1        \n",
    "    if row['hot3'] + row['got3'] > 0 : \n",
    "        counter += 1\n",
    "    if row['hot4'] + row['got4'] > 0 : \n",
    "        counter += 1\n",
    "    row['ot_counter'] = counter\n",
    "    return row\n",
    "\n",
    "games = games.apply(over_time_counter,axis=1)"
   ]
  },
  {
   "cell_type": "code",
   "execution_count": 1193,
   "metadata": {
    "collapsed": false
   },
   "outputs": [],
   "source": [
    "def if_last_game_had_overtime(row) :\n",
    "    mask1_host = games['GameDate'] < row['GameDate']\n",
    "    mask2_host = (games['Season'] == row['Season'])\n",
    "    mask3_host = ((games['HostName'] == row['HostName']) & (games['Host_GameRank'] == row['Host_GameRank'] -1))\n",
    "    mask4_host = ((games['GuestName'] == row['HostName']) & (games['Guest_GameRank'] == row['Host_GameRank'] -1))\n",
    "    temp = games['ot_counter'][mask1_host][mask2_host][mask3_host | mask4_host]\n",
    "    if len(temp) == 0 :\n",
    "        row['host_lastgame_overtime'] = 0\n",
    "    else :\n",
    "        row['host_lastgame_overtime'] = temp.values[0]\n",
    "\n",
    "    mask1_guest = games['GameDate'] < row['GameDate']\n",
    "    mask2_guest = (games['Season'] == row['Season'])\n",
    "    mask3_guest = ((games['GuestName'] == row['GuestName']) & (games['Guest_GameRank'] == row['Guest_GameRank'] -1))\n",
    "    mask4_guest = ((games['HostName'] == row['GuestName']) & (games['Host_GameRank'] == row['Guest_GameRank'] -1))\n",
    "    temp = games['ot_counter'][mask1_guest][mask2_guest][mask3_guest | mask4_guest]\n",
    "    if len(temp) == 0 :\n",
    "        row['guest_lastgame_overtime'] = 0\n",
    "    else :\n",
    "        row['guest_lastgame_overtime'] = temp.values[0]\n",
    "\n",
    "    return row\n",
    "\n",
    "games = games.apply(if_last_game_had_overtime,axis=1)"
   ]
  },
  {
   "cell_type": "code",
   "execution_count": 1194,
   "metadata": {
    "collapsed": false
   },
   "outputs": [],
   "source": [
    "def rehab_time_host(row) :\n",
    "    mask = (((games.HostName == row['HostName']) & (games.Host_GameRank == row['Host_GameRank'] -1)) | ((games.GuestName == row['HostName']) & (games.Guest_GameRank == row['Host_GameRank'] -1))) & (games.Season==row['Season'])\n",
    "    lastgame_date = games[['GameDate']][mask].max()\n",
    "    lastgame_date = lastgame_date.values[0]\n",
    "    thisgame_date = row['GameDate']\n",
    "    \n",
    "    if pd.isnull(lastgame_date) :\n",
    "        row['Host_LastGameDiff'] = -1\n",
    "    else :\n",
    "        row['Host_LastGameDiff'] = (thisgame_date - lastgame_date) / np.timedelta64(1,'D')\n",
    "    return row                                                                                \n",
    "\n",
    "games = games.apply(rehab_time_host, axis =1 )\n",
    "\n",
    "def rehab_time_guest(row) :\n",
    "    mask = (((games.GuestName == row['GuestName']) & (games.Guest_GameRank == row['Guest_GameRank'] -1)) | ((games.HostName == row['GuestName']) & (games.Host_GameRank == row['Guest_GameRank'] -1))) & (games.Season==row['Season'])\n",
    "    lastgame_date = games[['GameDate']][mask].max()\n",
    "    lastgame_date = lastgame_date.values[0]\n",
    "    thisgame_date = row['GameDate']\n",
    "    \n",
    "    if pd.isnull(lastgame_date) :\n",
    "        row['Guest_LastGameDiff'] = -1\n",
    "    else :\n",
    "        row['Guest_LastGameDiff'] = (thisgame_date - lastgame_date) / np.timedelta64(1,'D')\n",
    "    return row                                                                                \n",
    "\n",
    "games = games.apply(rehab_time_guest, axis =1 )\n"
   ]
  },
  {
   "cell_type": "code",
   "execution_count": 1190,
   "metadata": {
    "collapsed": true
   },
   "outputs": [],
   "source": [
    "def winner_looser(row) :\n",
    "    if row['HostScore'] > row['GuestScore'] :\n",
    "        row['winner'] = row['HostName']\n",
    "        row['loser'] = row['GuestName']\n",
    "    else : \n",
    "        row['winner'] = row['GuestName']\n",
    "        row['loser'] = row['HostName']\n",
    "    return row    \n",
    "games = games.apply(winner_looser,axis=1)"
   ]
  },
  {
   "cell_type": "code",
   "execution_count": 1195,
   "metadata": {
    "collapsed": false
   },
   "outputs": [],
   "source": [
    "def win_lose_counter(row) :\n",
    "    row['host_win_count']  = len(games[(games.GameDate < row['GameDate']) & (games.Season == row['Season']) & (games.winner == row['HostName'])])\n",
    "    row['host_lose_count'] = len(games[(games.GameDate < row['GameDate']) & (games.Season == row['Season']) & (games.loser == row['HostName'])])\n",
    "\n",
    "    row['guest_win_count'] = len(games[(games.GameDate < row['GameDate']) & (games.Season == row['Season']) & (games.winner == row['GuestName'])])\n",
    "    row['guest_lose_count'] = len(games[(games.GameDate < row['GameDate']) & (games.Season == row['Season']) & (games.loser == row['GuestName'])])\n",
    "    return row\n",
    "games = games.apply(win_lose_counter,axis=1)"
   ]
  },
  {
   "cell_type": "code",
   "execution_count": 1197,
   "metadata": {
    "collapsed": false
   },
   "outputs": [],
   "source": [
    "def games_behind(row) :\n",
    "    row['game_behind'] = ((row['host_win_count'] - row['guest_win_count']) + (row['guest_lose_count'] - row['host_lose_count']))/2.\n",
    "    return row\n",
    "games = games.apply(games_behind,axis=1)"
   ]
  },
  {
   "cell_type": "code",
   "execution_count": 1198,
   "metadata": {
    "collapsed": false
   },
   "outputs": [],
   "source": [
    "def streak_host(row) :\n",
    "    templist = []\n",
    "    tempgames = games[['winner','loser']][(games.Season == row['Season']) & (games.GameDate < row['GameDate']) & ((games.loser == row['HostName']) | (games.winner == row['HostName']))]\n",
    "    for winner in tempgames[['winner']].values :\n",
    "        if winner == row['HostName'] :\n",
    "            templist.append(1)\n",
    "        else :\n",
    "            templist.append(-1)\n",
    "    \n",
    "    row['host_strike'] = 0\n",
    "    while len(templist) > 0 :\n",
    "        item = templist.pop()\n",
    "        #print item,row['host_strike']\n",
    "        if item == 1 and row['host_strike'] >= 0 :\n",
    "            row['host_strike'] += item\n",
    "        elif item == -1 and row['host_strike'] <= 0 :\n",
    "            row['host_strike'] += item\n",
    "        else : \n",
    "            break\n",
    "    return row\n",
    "\n",
    "games = games.apply(streak_host,axis=1)\n",
    "\n",
    "def streak_guest(row) :\n",
    "    templist = []\n",
    "    tempgames = games[['winner','loser']][(games.Season == row['Season']) & (games.GameDate < row['GameDate']) & ((games.loser == row['GuestName']) | (games.winner == row['GuestName']))]\n",
    "    for winner in tempgames[['winner']].values :\n",
    "        if winner == row['GuestName'] :\n",
    "            templist.append(1)\n",
    "        else :\n",
    "            templist.append(-1)\n",
    "    \n",
    "    row['guest_strike'] = 0\n",
    "    while len(templist) > 0 :\n",
    "        item = templist.pop()\n",
    "        #print item,row['host_strike']\n",
    "        if item == 1 and row['guest_strike'] >= 0 :\n",
    "            row['guest_strike'] += item\n",
    "        elif item == -1 and row['guest_strike'] <= 0 :\n",
    "            row['guest_strike'] += item\n",
    "        else : \n",
    "            break\n",
    "    return row\n",
    "\n",
    "games = games.apply(streak_guest,axis=1)\n"
   ]
  },
  {
   "cell_type": "code",
   "execution_count": 1199,
   "metadata": {
    "collapsed": false
   },
   "outputs": [],
   "source": [
    "def streak_place_host(row) :\n",
    "    templist = []\n",
    "    tempgames = games[['HostName','GuestName']][(games.Season == row['Season']) & (games.GameDate <= row['GameDate']) & ((games.HostName == row['HostName']) | (games.GuestName == row['HostName']))]\n",
    "    for team in tempgames[['HostName']].values :\n",
    "        if team == row['HostName'] :\n",
    "            templist.append(1)\n",
    "        else :\n",
    "            templist.append(-1)\n",
    "    \n",
    "    row['host_place_streak'] = 0\n",
    "    while len(templist) > 0 :\n",
    "        item = templist.pop()\n",
    "        if item == 1 and row['host_place_streak'] >= 0 :\n",
    "            row['host_place_streak'] += item\n",
    "        elif item == -1 and row['host_place_streak'] <= 0 :\n",
    "            row['host_place_streak'] += item\n",
    "        else : \n",
    "            break\n",
    "    return row\n",
    "\n",
    "games = games.apply(streak_place_host,axis=1)\n",
    "\n",
    "\n",
    "def streak_place_guest(row) :\n",
    "    templist = []\n",
    "    tempgames = games[['HostName','GuestName']][(games.Season == row['Season']) & (games.GameDate <= row['GameDate']) & ((games.HostName == row['GuestName']) | (games.GuestName == row['GuestName']))]\n",
    "    for team in tempgames[['GuestName']].values :\n",
    "        if team == row['GuestName'] :\n",
    "            templist.append(1)\n",
    "        else :\n",
    "            templist.append(-1)\n",
    "    \n",
    "    row['guest_place_streak'] = 0\n",
    "    while len(templist) > 0 :\n",
    "        item = templist.pop()\n",
    "        if item == 1 and row['guest_place_streak'] >= 0 :\n",
    "            row['guest_place_streak'] += item\n",
    "        elif item == -1 and row['guest_place_streak'] <= 0 :\n",
    "            row['guest_place_streak'] += item\n",
    "        else : \n",
    "            break\n",
    "    return row\n",
    "\n",
    "games = games.apply(streak_place_guest,axis=1)\n"
   ]
  },
  {
   "cell_type": "code",
   "execution_count": 926,
   "metadata": {
    "collapsed": true
   },
   "outputs": [],
   "source": [
    "# def win_lose_last10(row) :\n",
    "#     mask1 = (games.GameDate < row['GameDate']) & (games.Season == row['Season'])\n",
    "#     mask2 = "
   ]
  },
  {
   "cell_type": "code",
   "execution_count": 949,
   "metadata": {
    "collapsed": true
   },
   "outputs": [],
   "source": [
    "from math import radians, cos, sin, asin, sqrt\n",
    "\n",
    "def haversine(lon1, lat1, lon2, lat2):\n",
    "    \"\"\"\n",
    "    Calculate the great circle distance between two points \n",
    "    on the earth (specified in decimal degrees)\n",
    "    \"\"\"\n",
    "    # convert decimal degrees to radians \n",
    "    lon1, lat1, lon2, lat2 = map(radians, [lon1, lat1, lon2, lat2])\n",
    "\n",
    "    # haversine formula \n",
    "    dlon = lon2 - lon1 \n",
    "    dlat = lat2 - lat1 \n",
    "    a = sin(dlat/2)**2 + cos(lat1) * cos(lat2) * sin(dlon/2)**2\n",
    "    c = 2 * asin(sqrt(a)) \n",
    "    r = 3956 # Radius of earth 6371 in kilometers. Use 3956 for miles.\n",
    "    return c * r\n",
    "\n",
    "haversine(40.7505, 73.9934, 38.5803, 121.4996)"
   ]
  },
  {
   "cell_type": "markdown",
   "metadata": {},
   "source": [
    "### Validate the data so far"
   ]
  },
  {
   "cell_type": "code",
   "execution_count": 1280,
   "metadata": {
    "collapsed": false,
    "scrolled": true
   },
   "outputs": [],
   "source": [
    "#games[(games.GuestName == 'Sacramento Kings') | (games.HostName == 'Sacramento Kings')][games.Season == 2017][['HostName','GuestName','host_place_streak','guest_place_streak']]"
   ]
  },
  {
   "cell_type": "code",
   "execution_count": 1201,
   "metadata": {
    "collapsed": false
   },
   "outputs": [
    {
     "data": {
      "text/plain": [
       "Series([], dtype: int64)"
      ]
     },
     "execution_count": 1201,
     "metadata": {},
     "output_type": "execute_result"
    }
   ],
   "source": [
    "games.isnull().sum()[games.isnull().sum() > 0 ]"
   ]
  },
  {
   "cell_type": "code",
   "execution_count": 1279,
   "metadata": {
    "collapsed": false,
    "scrolled": true
   },
   "outputs": [],
   "source": [
    "#show_rows_for_2_teams('Golden State Warriors','Charlotte Hornets')"
   ]
  },
  {
   "cell_type": "code",
   "execution_count": 692,
   "metadata": {
    "collapsed": true
   },
   "outputs": [],
   "source": [
    "#games.to_csv('./Data/CSV_files/Final_Data')"
   ]
  },
  {
   "cell_type": "markdown",
   "metadata": {},
   "source": [
    "## Try to take the average data of last n matches as host or guest"
   ]
  },
  {
   "cell_type": "code",
   "execution_count": 1202,
   "metadata": {
    "collapsed": false
   },
   "outputs": [],
   "source": [
    "games_avg = games[['Season','GameId','GameDate','GameTime','HostName','GuestName',\n",
    "                   #'HostScore','hq1','hq2','hq3','hq4',\n",
    "                   #'GuestScore','gq1','gq2','gq3','gq4',\n",
    "                   'total_score',\n",
    "                   'total_line','game_line', \n",
    "                   'Host_HostRank','Host_GameRank','Guest_GuestRank','Guest_GameRank',\n",
    "                   'Headsup_GameRank_Season','Headsup_GameRank_All', 'Host_LastGameDiff','Guest_LastGameDiff',\n",
    "                   'host_win_count','host_lose_count','guest_win_count','guest_lose_count', \n",
    "                   'game_behind','host_strike','guest_strike','winner','loser',\n",
    "                   'host_place_streak','guest_place_streak']]\n",
    "\n",
    "merge_columns = [x for x in games_avg.columns if x != 'GameId']\n",
    "\n",
    "print games.shape,games_avg.shape,games_avg[games_avg.Host_HostRank ==1].shape"
   ]
  },
  {
   "cell_type": "code",
   "execution_count": 1208,
   "metadata": {
    "collapsed": false
   },
   "outputs": [
    {
     "name": "stdout",
     "output_type": "stream",
     "text": [
      "(4490, 65) (4490, 65)\n",
      "(4490, 38) (4490, 38)\n",
      "(5990, 28) (5990, 132)\n",
      "(4351, 102)\n"
     ]
    }
   ],
   "source": [
    "def historyData_average_host(row) :\n",
    "    \n",
    "\n",
    "    host = games[(games['HostName'] == row['HostName']) & (games['Season'] == row['Season']) & (games['Host_HostRank'] < row['Host_HostRank']) & (games['Host_HostRank'] >= row['Host_HostRank'] - n_lastmatch)]\n",
    "    final_host = host[['HostName','hq1','hq2','hq3','hq4','hPace','heFG%','hTOV%','hORB%','hFT/FGA','hORtg','hFG', 'hFGA', 'hFG%', 'h3P', 'h3PA', 'h3P%', 'hFT', 'hFTA', 'hFT%', 'hORB', 'hDRB', 'hTRB', 'hAST', 'hSTL', 'hBLK', 'hTOV', 'hPF', 'hPTS', 'hTS%', 'h3PAR', 'hFTr', 'hDRB%', 'hTRB%', 'hAST%', 'hSTL%', 'hBLK%', 'hDRtg']].groupby(['HostName']).mean().reset_index()    \n",
    "    for col in final_host.columns : \n",
    "        if col != 'HostName' :\n",
    "            row[col+'_avg'+ str(n_lastmatch)] = final_host[col].sum()\n",
    "        \n",
    "    return row\n",
    "\n",
    "\n",
    "\n",
    "def historyData_average_guest(row) :\n",
    "\n",
    "    guest = games[(games['GuestName'] == row['GuestName']) & (games['Season'] == row['Season']) & (games['Guest_GuestRank'] < row['Guest_GuestRank']) & (games['Guest_GuestRank'] >= row['Guest_GuestRank'] - n_lastmatch)]\n",
    "    final_guest = guest[['GuestName','gq1','gq2','gq3','gq4','gPace','geFG%','gTOV%','gORB%','gFT/FGA','gORtg','gFG', 'gFGA', 'gFG%', 'g3P', 'g3PA', 'g3P%', 'gFT', 'gFTA', 'gFT%', 'gORB', 'gDRB', 'gTRB', 'gAST', 'gSTL', 'gBLK', 'gTOV', 'gPF', 'gPTS', 'gTS%', 'g3PAR', 'gFTr', 'gDRB%', 'gTRB%', 'gAST%', 'gSTL%', 'gBLK%', 'gDRtg']].groupby(['GuestName']).mean().reset_index()       \n",
    "    for col in final_guest.columns : \n",
    "        if col != 'GuestName' :\n",
    "            row[col+'_avg'+ str(n_lastmatch)] = final_guest[col].sum()\n",
    "\n",
    "    return row\n",
    "\n",
    "n_lastmatch = 10\n",
    "\n",
    "games_avg_as_host  = games_avg[games_avg.Host_HostRank > n_lastmatch].apply(historyData_average_host, axis=1)\n",
    "games_avg_as_guest  = games_avg[games_avg.Guest_GuestRank > n_lastmatch].apply(historyData_average_guest, axis=1)\n",
    "\n",
    "games_avg_as_host = games_avg_as_host[[x for x in games_avg_as_host.columns if x not in merge_columns]]\n",
    "games_avg_as_guest = games_avg_as_guest[[x for x in games_avg_as_guest.columns if x not in merge_columns]]\n",
    "print games_avg_as_host.shape,games_avg_as_guest.shape\n",
    "\n",
    "games_avg_as_host_or_guest = games_avg_as_host.merge(games_avg_as_guest,on='GameId',how='inner')\n",
    "print games_avg_as_host_or_guest.shape"
   ]
  },
  {
   "cell_type": "code",
   "execution_count": 1271,
   "metadata": {
    "collapsed": true
   },
   "outputs": [],
   "source": [
    "n_last_headsups = 3\n",
    "def historyData_last_headsups(row) :\n",
    "    \n",
    "    mask1 = (games['GameDate'] < row['GameDate'])\n",
    "    mask2 = ((games['HostName'] == row['HostName']) & (games['GuestName'] == row['GuestName'])) | ((games['HostName'] == row['GuestName']) & (games['GuestName'] == row['HostName'])) \n",
    "    mask3 = games['Headsup_GameRank_All'] >= row['Headsup_GameRank_All'] - n_last_headsups\n",
    "    columns = ['q1','q2','q3','q4','Pace','PF','FGA','DRtg','ORtg','STL%','TOV%','ORB%','DRB%','TRB%','BLK%']\n",
    "    tempgames = games[mask1][mask2][mask3][columns]\n",
    "    \n",
    "    temp = tempgames.mean()\n",
    "    for col in columns : \n",
    "        if len(tempgames) > 0 : \n",
    "            row[col+'_headsup'+ str(n_lastmatch)] = temp[col]\n",
    "        else : \n",
    "            row[col+'_headsup'+ str(n_lastmatch)] = 0\n",
    "    return row\n",
    "\n",
    "games_avg_headsup = games_avg[games_avg.Headsup_GameRank_All > 1].apply(historyData_last_headsups,axis=1)\n",
    "games_avg_headsup = games_avg_headsup[[x for x in games_avg_headsup.columns if x not in merge_columns]]\n",
    "print games_avg_headsup.shape,games_avg.shape\n"
   ]
  },
  {
   "cell_type": "code",
   "execution_count": null,
   "metadata": {
    "collapsed": true
   },
   "outputs": [],
   "source": [
    "games_avg_final = games_avg.merge(games_avg_as_host_or_guest,on='GameId',how='inner').merge(games_avg_headsup,on='GameId',how='inner')\n",
    "print games.shape,games_avg_as_host_or_guest.shape,games_avg_final.shape"
   ]
  },
  {
   "cell_type": "code",
   "execution_count": 1278,
   "metadata": {
    "collapsed": true
   },
   "outputs": [],
   "source": [
    "games_avg_final.to_csv('./Data/CSV_files/games_avg_final02')"
   ]
  },
  {
   "cell_type": "code",
   "execution_count": 872,
   "metadata": {
    "collapsed": true
   },
   "outputs": [],
   "source": [
    "n_last_totalmatch = 10\n",
    "\n",
    "def historyData_average_host_game(row) :\n",
    "    \n",
    "    mask1 = games['Season'] == row['Season']\n",
    "    mask2 = (games['HostName'] == row['HostName']) & (games['Host_GameRank'] < row['Host_GameRank']) & (games['Host_GameRank'] >= row['Host_GameRank'] - n_lastmatch)\n",
    "    mask3 = (games['GuestName'] == row['HostName']) & (games['Guest_GameRank'] < row['Host_GameRank']) & (games['Guest_GameRank'] >= row['Host_GameRank'] - n_lastmatch)\n",
    "\n",
    "    host = games[mask2][mask2 | mask3]\n",
    "    final_host = host[['HostName','hq1','hq2','hq3','hq4','hPace','heFG%','hTOV%','hORB%','hFT/FGA','hORtg','hFG', 'hFGA', 'hFG%', 'h3P', 'h3PA', 'h3P%', 'hFT', 'hFTA', 'hFT%', 'hORB', 'hDRB', 'hTRB', 'hAST', 'hSTL', 'hBLK', 'hTOV', 'hPF', 'hPTS', 'hTS%', 'h3PAR', 'hFTr', 'hDRB%', 'hTRB%', 'hAST%', 'hSTL%', 'hBLK%', 'hDRtg']].groupby(['HostName']).mean().reset_index()    \n",
    "    for col in final_host.columns : \n",
    "        if col != 'HostName' :\n",
    "            row[col+'_avg_game'+ str(n_lastmatch)] = final_host[col].sum()       \n",
    "    return row\n",
    "\n",
    "\n",
    "\n",
    "def historyData_average_guest(row) :\n",
    "\n",
    "    mask1 = games['Season'] == row['Season']\n",
    "    mask2 = (games['HostName'] == row['GuestName']) & (games['Host_GameRank'] < row['Guest_GameRank']) & (games['Host_GameRank'] >= row['Guest_GameRank'] - n_lastmatch)\n",
    "    mask3 = (games['GuestName'] == row['GuestName']) & (games['Guest_GameRank'] < row['Guest_GameRank']) & (games['Guest_GameRank'] >= row['Guest_GameRank'] - n_lastmatch)\n",
    "\n",
    "    guest = games[(games['GuestName'] == row['GuestName']) & (games['Season'] == row['Season']) & (games['Guest_GuestRank'] < row['Guest_GuestRank']) & (games['Guest_GuestRank'] >= row['Guest_GuestRank'] - n_lastmatch)]\n",
    "    final_guest = guest[['GuestName','gq1','gq2','gq3','gq4','gPace','geFG%','gTOV%','gORB%','gFT/FGA','gORtg','gFG', 'gFGA', 'gFG%', 'g3P', 'g3PA', 'g3P%', 'gFT', 'gFTA', 'gFT%', 'gORB', 'gDRB', 'gTRB', 'gAST', 'gSTL', 'gBLK', 'gTOV', 'gPF', 'gPTS', 'gTS%', 'g3PAR', 'gFTr', 'gDRB%', 'gTRB%', 'gAST%', 'gSTL%', 'gBLK%', 'gDRtg']].groupby(['GuestName']).mean().reset_index()       \n",
    "    for col in final_guest.columns : \n",
    "        if col != 'GuestName' :\n",
    "            row[col+'_avg_game'+ str(n_lastmatch)] = final_guest[col].sum()\n",
    "    return row"
   ]
  }
 ],
 "metadata": {
  "anaconda-cloud": {},
  "kernelspec": {
   "display_name": "Python [conda env:dsi]",
   "language": "python",
   "name": "conda-env-dsi-py"
  },
  "language_info": {
   "codemirror_mode": {
    "name": "ipython",
    "version": 2
   },
   "file_extension": ".py",
   "mimetype": "text/x-python",
   "name": "python",
   "nbconvert_exporter": "python",
   "pygments_lexer": "ipython2",
   "version": "2.7.12"
  }
 },
 "nbformat": 4,
 "nbformat_minor": 1
}
